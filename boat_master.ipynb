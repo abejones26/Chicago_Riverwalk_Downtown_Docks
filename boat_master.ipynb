{
 "cells": [
  {
   "cell_type": "code",
   "execution_count": 1,
   "metadata": {},
   "outputs": [],
   "source": [
    "import pandas as pd\n",
    "import numpy as np\n",
    "import os\n",
    "import csv\n",
    "import json"
   ]
  },
  {
   "cell_type": "markdown",
   "metadata": {},
   "source": [
    "# Loading Datasets"
   ]
  },
  {
   "cell_type": "markdown",
   "metadata": {},
   "source": [
    "### Downtown Docks 2019 Boaters Boats Dataset"
   ]
  },
  {
   "cell_type": "code",
   "execution_count": 2,
   "metadata": {
    "scrolled": true
   },
   "outputs": [
    {
     "data": {
      "text/html": [
       "<div>\n",
       "<style scoped>\n",
       "    .dataframe tbody tr th:only-of-type {\n",
       "        vertical-align: middle;\n",
       "    }\n",
       "\n",
       "    .dataframe tbody tr th {\n",
       "        vertical-align: top;\n",
       "    }\n",
       "\n",
       "    .dataframe thead th {\n",
       "        text-align: right;\n",
       "    }\n",
       "</style>\n",
       "<table border=\"1\" class=\"dataframe\">\n",
       "  <thead>\n",
       "    <tr style=\"text-align: right;\">\n",
       "      <th></th>\n",
       "      <th>ID</th>\n",
       "      <th>Name</th>\n",
       "      <th>Email</th>\n",
       "      <th>Phone</th>\n",
       "      <th>Boat Name</th>\n",
       "      <th>Boat Type</th>\n",
       "      <th>Country</th>\n",
       "      <th>Boat Make</th>\n",
       "      <th>Boat Model</th>\n",
       "      <th>Boat Year</th>\n",
       "      <th>...</th>\n",
       "      <th>Adjustment</th>\n",
       "      <th>Sales Tax</th>\n",
       "      <th>Total Price</th>\n",
       "      <th>Amount Paid</th>\n",
       "      <th>Refund</th>\n",
       "      <th>Discount Price</th>\n",
       "      <th>Discount Reasons</th>\n",
       "      <th>Special Requests</th>\n",
       "      <th>Notes</th>\n",
       "      <th>Contact Notes</th>\n",
       "    </tr>\n",
       "  </thead>\n",
       "  <tbody>\n",
       "    <tr>\n",
       "      <td>0</td>\n",
       "      <td>5NJB9D4YY</td>\n",
       "      <td>Chris Chellios</td>\n",
       "      <td>NaN</td>\n",
       "      <td>NaN</td>\n",
       "      <td>Caltara</td>\n",
       "      <td>power</td>\n",
       "      <td>NaN</td>\n",
       "      <td>NaN</td>\n",
       "      <td>NaN</td>\n",
       "      <td>NaN</td>\n",
       "      <td>...</td>\n",
       "      <td>$0.00</td>\n",
       "      <td>$0.00</td>\n",
       "      <td>$0.00</td>\n",
       "      <td>$0.00</td>\n",
       "      <td>$0.00</td>\n",
       "      <td>($270.00)</td>\n",
       "      <td>Paying at the dock</td>\n",
       "      <td>NaN</td>\n",
       "      <td>8:15-10:15</td>\n",
       "      <td>NaN</td>\n",
       "    </tr>\n",
       "    <tr>\n",
       "      <td>1</td>\n",
       "      <td>PW1I1Y1Y</td>\n",
       "      <td>Chris Chellios</td>\n",
       "      <td>NaN</td>\n",
       "      <td>NaN</td>\n",
       "      <td>Caltara</td>\n",
       "      <td>power</td>\n",
       "      <td>NaN</td>\n",
       "      <td>NaN</td>\n",
       "      <td>NaN</td>\n",
       "      <td>NaN</td>\n",
       "      <td>...</td>\n",
       "      <td>$0.00</td>\n",
       "      <td>$18.90</td>\n",
       "      <td>$288.90</td>\n",
       "      <td>$0.00</td>\n",
       "      <td>$0.00</td>\n",
       "      <td>$0.00</td>\n",
       "      <td>NaN</td>\n",
       "      <td>3:30pm-5:30pm</td>\n",
       "      <td>NaN</td>\n",
       "      <td>NaN</td>\n",
       "    </tr>\n",
       "    <tr>\n",
       "      <td>2</td>\n",
       "      <td>KDPCLVML</td>\n",
       "      <td>Eddie (Marc Frontier)</td>\n",
       "      <td>NaN</td>\n",
       "      <td>6309678844</td>\n",
       "      <td>Marc Frontier</td>\n",
       "      <td>power</td>\n",
       "      <td>NaN</td>\n",
       "      <td>NaN</td>\n",
       "      <td>NaN</td>\n",
       "      <td>NaN</td>\n",
       "      <td>...</td>\n",
       "      <td>$0.00</td>\n",
       "      <td>$6.30</td>\n",
       "      <td>$96.30</td>\n",
       "      <td>$0.00</td>\n",
       "      <td>$0.00</td>\n",
       "      <td>$0.00</td>\n",
       "      <td>NaN</td>\n",
       "      <td>NaN</td>\n",
       "      <td>Goin to pay at the dock/ 6pm arrival</td>\n",
       "      <td>NaN</td>\n",
       "    </tr>\n",
       "    <tr>\n",
       "      <td>3</td>\n",
       "      <td>YMNC1NXL</td>\n",
       "      <td>No idea</td>\n",
       "      <td>NaN</td>\n",
       "      <td>NaN</td>\n",
       "      <td>Motley Crew</td>\n",
       "      <td>power</td>\n",
       "      <td>NaN</td>\n",
       "      <td>NaN</td>\n",
       "      <td>NaN</td>\n",
       "      <td>NaN</td>\n",
       "      <td>...</td>\n",
       "      <td>$0.00</td>\n",
       "      <td>$5.60</td>\n",
       "      <td>$85.60</td>\n",
       "      <td>$0.00</td>\n",
       "      <td>$0.00</td>\n",
       "      <td>$0.00</td>\n",
       "      <td>NaN</td>\n",
       "      <td>11-Sep</td>\n",
       "      <td>NaN</td>\n",
       "      <td>NaN</td>\n",
       "    </tr>\n",
       "    <tr>\n",
       "      <td>4</td>\n",
       "      <td>JXLHDYP9</td>\n",
       "      <td>Doug J</td>\n",
       "      <td>NaN</td>\n",
       "      <td>NaN</td>\n",
       "      <td>Sunseeker</td>\n",
       "      <td>power</td>\n",
       "      <td>NaN</td>\n",
       "      <td>NaN</td>\n",
       "      <td>NaN</td>\n",
       "      <td>NaN</td>\n",
       "      <td>...</td>\n",
       "      <td>$0.00</td>\n",
       "      <td>$7.00</td>\n",
       "      <td>$107.00</td>\n",
       "      <td>$0.00</td>\n",
       "      <td>$0.00</td>\n",
       "      <td>$0.00</td>\n",
       "      <td>NaN</td>\n",
       "      <td>7:30-930</td>\n",
       "      <td>NaN</td>\n",
       "      <td>NaN</td>\n",
       "    </tr>\n",
       "    <tr>\n",
       "      <td>...</td>\n",
       "      <td>...</td>\n",
       "      <td>...</td>\n",
       "      <td>...</td>\n",
       "      <td>...</td>\n",
       "      <td>...</td>\n",
       "      <td>...</td>\n",
       "      <td>...</td>\n",
       "      <td>...</td>\n",
       "      <td>...</td>\n",
       "      <td>...</td>\n",
       "      <td>...</td>\n",
       "      <td>...</td>\n",
       "      <td>...</td>\n",
       "      <td>...</td>\n",
       "      <td>...</td>\n",
       "      <td>...</td>\n",
       "      <td>...</td>\n",
       "      <td>...</td>\n",
       "      <td>...</td>\n",
       "      <td>...</td>\n",
       "      <td>...</td>\n",
       "    </tr>\n",
       "    <tr>\n",
       "      <td>2728</td>\n",
       "      <td>3NLB0NZN</td>\n",
       "      <td>Jeffrey R Siglin</td>\n",
       "      <td>jsiglin@gmail.com</td>\n",
       "      <td>8477221415</td>\n",
       "      <td>TBD</td>\n",
       "      <td>power</td>\n",
       "      <td>NaN</td>\n",
       "      <td>NaN</td>\n",
       "      <td>NaN</td>\n",
       "      <td>NaN</td>\n",
       "      <td>...</td>\n",
       "      <td>$0.00</td>\n",
       "      <td>$4.90</td>\n",
       "      <td>$74.90</td>\n",
       "      <td>$74.90</td>\n",
       "      <td>$0.00</td>\n",
       "      <td>$0.00</td>\n",
       "      <td>NaN</td>\n",
       "      <td>Docking space in front of City Winery from 11-12</td>\n",
       "      <td>Moved to 1-2 per call with customer</td>\n",
       "      <td>NaN</td>\n",
       "    </tr>\n",
       "    <tr>\n",
       "      <td>2729</td>\n",
       "      <td>VJZHN7NM</td>\n",
       "      <td>Robert J McKendry</td>\n",
       "      <td>robert.mckendry1@gmail.com</td>\n",
       "      <td>8475071998</td>\n",
       "      <td>Copper Line</td>\n",
       "      <td>power</td>\n",
       "      <td>NaN</td>\n",
       "      <td>NaN</td>\n",
       "      <td>NaN</td>\n",
       "      <td>NaN</td>\n",
       "      <td>...</td>\n",
       "      <td>$0.00</td>\n",
       "      <td>$4.90</td>\n",
       "      <td>$74.90</td>\n",
       "      <td>$74.90</td>\n",
       "      <td>$0.00</td>\n",
       "      <td>$0.00</td>\n",
       "      <td>NaN</td>\n",
       "      <td>NaN</td>\n",
       "      <td>3:45-5:45</td>\n",
       "      <td>NaN</td>\n",
       "    </tr>\n",
       "    <tr>\n",
       "      <td>2730</td>\n",
       "      <td>DPKA6DNX</td>\n",
       "      <td>JONATHAN p TOMEK</td>\n",
       "      <td>jtomek@pwkaiser.com</td>\n",
       "      <td>8477026184</td>\n",
       "      <td>CROWNLINE</td>\n",
       "      <td>power</td>\n",
       "      <td>NaN</td>\n",
       "      <td>NaN</td>\n",
       "      <td>NaN</td>\n",
       "      <td>NaN</td>\n",
       "      <td>...</td>\n",
       "      <td>$0.00</td>\n",
       "      <td>$0.00</td>\n",
       "      <td>$0.00</td>\n",
       "      <td>$0.00</td>\n",
       "      <td>($96.30)</td>\n",
       "      <td>$0.00</td>\n",
       "      <td>NaN</td>\n",
       "      <td>looking for a noon, 1 or  2pm dock starting time</td>\n",
       "      <td>NaN</td>\n",
       "      <td>NaN</td>\n",
       "    </tr>\n",
       "    <tr>\n",
       "      <td>2731</td>\n",
       "      <td>ZGMAG79G</td>\n",
       "      <td>JONATHAN p TOMEK</td>\n",
       "      <td>jtomek@pwkaiser.com</td>\n",
       "      <td>8477026184</td>\n",
       "      <td>CROWNLINE</td>\n",
       "      <td>power</td>\n",
       "      <td>NaN</td>\n",
       "      <td>NaN</td>\n",
       "      <td>NaN</td>\n",
       "      <td>NaN</td>\n",
       "      <td>...</td>\n",
       "      <td>$0.00</td>\n",
       "      <td>$0.00</td>\n",
       "      <td>$0.00</td>\n",
       "      <td>$0.00</td>\n",
       "      <td>($96.30)</td>\n",
       "      <td>$0.00</td>\n",
       "      <td>NaN</td>\n",
       "      <td>I AM LOOKING TO DOCK FROM 3-5 ON THIS DAY WEAT...</td>\n",
       "      <td>NaN</td>\n",
       "      <td>NaN</td>\n",
       "    </tr>\n",
       "    <tr>\n",
       "      <td>2732</td>\n",
       "      <td>0MECDW1D</td>\n",
       "      <td>Ed Stack</td>\n",
       "      <td>ejmmstack@yahoo.com</td>\n",
       "      <td>8477697709</td>\n",
       "      <td>Ed Stack</td>\n",
       "      <td>power</td>\n",
       "      <td>NaN</td>\n",
       "      <td>NaN</td>\n",
       "      <td>NaN</td>\n",
       "      <td>NaN</td>\n",
       "      <td>...</td>\n",
       "      <td>$0.00</td>\n",
       "      <td>$0.00</td>\n",
       "      <td>$0.00</td>\n",
       "      <td>$0.00</td>\n",
       "      <td>($53.50)</td>\n",
       "      <td>$0.00</td>\n",
       "      <td>NaN</td>\n",
       "      <td>Looking for a couple hours for a late lunch. D...</td>\n",
       "      <td>Dockwa Support Note (9/26/18): This refund req...</td>\n",
       "      <td>NaN</td>\n",
       "    </tr>\n",
       "  </tbody>\n",
       "</table>\n",
       "<p>2733 rows × 41 columns</p>\n",
       "</div>"
      ],
      "text/plain": [
       "             ID                   Name                       Email  \\\n",
       "0     5NJB9D4YY        Chris Chellios                          NaN   \n",
       "1      PW1I1Y1Y        Chris Chellios                          NaN   \n",
       "2      KDPCLVML  Eddie (Marc Frontier)                         NaN   \n",
       "3      YMNC1NXL                No idea                         NaN   \n",
       "4      JXLHDYP9                 Doug J                         NaN   \n",
       "...         ...                    ...                         ...   \n",
       "2728   3NLB0NZN       Jeffrey R Siglin           jsiglin@gmail.com   \n",
       "2729   VJZHN7NM      Robert J McKendry  robert.mckendry1@gmail.com   \n",
       "2730   DPKA6DNX       JONATHAN p TOMEK         jtomek@pwkaiser.com   \n",
       "2731   ZGMAG79G       JONATHAN p TOMEK         jtomek@pwkaiser.com   \n",
       "2732   0MECDW1D               Ed Stack         ejmmstack@yahoo.com   \n",
       "\n",
       "           Phone      Boat Name Boat Type Country Boat Make Boat Model  \\\n",
       "0            NaN        Caltara     power     NaN       NaN        NaN   \n",
       "1            NaN        Caltara     power     NaN       NaN        NaN   \n",
       "2     6309678844  Marc Frontier     power     NaN       NaN        NaN   \n",
       "3            NaN    Motley Crew     power     NaN       NaN        NaN   \n",
       "4            NaN      Sunseeker     power     NaN       NaN        NaN   \n",
       "...          ...            ...       ...     ...       ...        ...   \n",
       "2728  8477221415            TBD     power     NaN       NaN        NaN   \n",
       "2729  8475071998    Copper Line     power     NaN       NaN        NaN   \n",
       "2730  8477026184      CROWNLINE     power     NaN       NaN        NaN   \n",
       "2731  8477026184      CROWNLINE     power     NaN       NaN        NaN   \n",
       "2732  8477697709       Ed Stack     power     NaN       NaN        NaN   \n",
       "\n",
       "     Boat Year  ...  Adjustment  Sales Tax  Total Price  Amount Paid  \\\n",
       "0          NaN  ...      $0.00      $0.00        $0.00        $0.00    \n",
       "1          NaN  ...      $0.00     $18.90      $288.90        $0.00    \n",
       "2          NaN  ...      $0.00      $6.30       $96.30        $0.00    \n",
       "3          NaN  ...      $0.00      $5.60       $85.60        $0.00    \n",
       "4          NaN  ...      $0.00      $7.00      $107.00        $0.00    \n",
       "...        ...  ...         ...        ...          ...          ...   \n",
       "2728       NaN  ...      $0.00      $4.90       $74.90       $74.90    \n",
       "2729       NaN  ...      $0.00      $4.90       $74.90       $74.90    \n",
       "2730       NaN  ...      $0.00      $0.00        $0.00        $0.00    \n",
       "2731       NaN  ...      $0.00      $0.00        $0.00        $0.00    \n",
       "2732       NaN  ...      $0.00      $0.00        $0.00        $0.00    \n",
       "\n",
       "        Refund  Discount Price    Discount Reasons  \\\n",
       "0       $0.00        ($270.00)  Paying at the dock   \n",
       "1       $0.00           $0.00                  NaN   \n",
       "2       $0.00           $0.00                  NaN   \n",
       "3       $0.00           $0.00                  NaN   \n",
       "4       $0.00           $0.00                  NaN   \n",
       "...        ...             ...                 ...   \n",
       "2728    $0.00           $0.00                  NaN   \n",
       "2729    $0.00           $0.00                  NaN   \n",
       "2730  ($96.30)          $0.00                  NaN   \n",
       "2731  ($96.30)          $0.00                  NaN   \n",
       "2732  ($53.50)          $0.00                  NaN   \n",
       "\n",
       "                                       Special Requests  \\\n",
       "0                                                   NaN   \n",
       "1                                         3:30pm-5:30pm   \n",
       "2                                                   NaN   \n",
       "3                                                11-Sep   \n",
       "4                                              7:30-930   \n",
       "...                                                 ...   \n",
       "2728   Docking space in front of City Winery from 11-12   \n",
       "2729                                                NaN   \n",
       "2730   looking for a noon, 1 or  2pm dock starting time   \n",
       "2731  I AM LOOKING TO DOCK FROM 3-5 ON THIS DAY WEAT...   \n",
       "2732  Looking for a couple hours for a late lunch. D...   \n",
       "\n",
       "                                                  Notes Contact Notes  \n",
       "0                                            8:15-10:15           NaN  \n",
       "1                                                   NaN           NaN  \n",
       "2                 Goin to pay at the dock/ 6pm arrival            NaN  \n",
       "3                                                   NaN           NaN  \n",
       "4                                                   NaN           NaN  \n",
       "...                                                 ...           ...  \n",
       "2728                Moved to 1-2 per call with customer           NaN  \n",
       "2729                                          3:45-5:45           NaN  \n",
       "2730                                                NaN           NaN  \n",
       "2731                                                NaN           NaN  \n",
       "2732  Dockwa Support Note (9/26/18): This refund req...           NaN  \n",
       "\n",
       "[2733 rows x 41 columns]"
      ]
     },
     "execution_count": 2,
     "metadata": {},
     "output_type": "execute_result"
    }
   ],
   "source": [
    "bb_df = pd.read_csv(\"Resources/Data/boaters_boats.csv\", encoding='ISO-8859-1')\n",
    "bb_df.shape\n",
    "bb_df"
   ]
  },
  {
   "cell_type": "markdown",
   "metadata": {},
   "source": [
    "### Master Boat Database"
   ]
  },
  {
   "cell_type": "code",
   "execution_count": 3,
   "metadata": {},
   "outputs": [
    {
     "data": {
      "text/plain": [
       "(591435, 18)"
      ]
     },
     "execution_count": 3,
     "metadata": {},
     "output_type": "execute_result"
    }
   ],
   "source": [
    "mbd = pd.read_csv(\"Resources/Data/master_boat_db_edit.csv\", encoding='ISO-8859-1')\n",
    "mbd.shape\n",
    "mbd.shape"
   ]
  },
  {
   "cell_type": "markdown",
   "metadata": {},
   "source": [
    "# Rename and Format Columns"
   ]
  },
  {
   "cell_type": "markdown",
   "metadata": {},
   "source": [
    "#### Downtown Docks 2019 Boaters Boats Dataset"
   ]
  },
  {
   "cell_type": "code",
   "execution_count": 4,
   "metadata": {},
   "outputs": [],
   "source": [
    "bb_df = bb_df.rename(columns={\n",
    "    \"Boat Make\"\t: \"Boat_Make\",\n",
    "})"
   ]
  },
  {
   "cell_type": "markdown",
   "metadata": {},
   "source": [
    "#### Master Boat Database"
   ]
  },
  {
   "cell_type": "code",
   "execution_count": 5,
   "metadata": {},
   "outputs": [],
   "source": [
    "mbd = mbd.rename(columns={\n",
    "    \"make\" : \"Boat_Make\",\n",
    "})"
   ]
  },
  {
   "cell_type": "markdown",
   "metadata": {},
   "source": [
    "# Reference Columns"
   ]
  },
  {
   "cell_type": "code",
   "execution_count": 6,
   "metadata": {},
   "outputs": [
    {
     "data": {
      "text/plain": [
       "(2710, 2)"
      ]
     },
     "execution_count": 6,
     "metadata": {},
     "output_type": "execute_result"
    }
   ],
   "source": [
    "bb_df = bb_df[[\"Country\", \"Boat_Make\"]]\n",
    "bb_df = bb_df.dropna()\n",
    "bb_df.shape"
   ]
  },
  {
   "cell_type": "markdown",
   "metadata": {},
   "source": [
    "#### Dropping Duplicates"
   ]
  },
  {
   "cell_type": "code",
   "execution_count": 31,
   "metadata": {},
   "outputs": [
    {
     "data": {
      "text/html": [
       "<div>\n",
       "<style scoped>\n",
       "    .dataframe tbody tr th:only-of-type {\n",
       "        vertical-align: middle;\n",
       "    }\n",
       "\n",
       "    .dataframe tbody tr th {\n",
       "        vertical-align: top;\n",
       "    }\n",
       "\n",
       "    .dataframe thead th {\n",
       "        text-align: right;\n",
       "    }\n",
       "</style>\n",
       "<table border=\"1\" class=\"dataframe\">\n",
       "  <thead>\n",
       "    <tr style=\"text-align: right;\">\n",
       "      <th></th>\n",
       "      <th>Country</th>\n",
       "      <th>Boat_Make</th>\n",
       "    </tr>\n",
       "  </thead>\n",
       "  <tbody>\n",
       "    <tr>\n",
       "      <td>8</td>\n",
       "      <td>Italy</td>\n",
       "      <td>Absolute</td>\n",
       "    </tr>\n",
       "    <tr>\n",
       "      <td>58</td>\n",
       "      <td>Sweden</td>\n",
       "      <td>Albin Marine</td>\n",
       "    </tr>\n",
       "    <tr>\n",
       "      <td>60</td>\n",
       "      <td>USA</td>\n",
       "      <td>Angler Boat Corp</td>\n",
       "    </tr>\n",
       "    <tr>\n",
       "      <td>61</td>\n",
       "      <td>USA</td>\n",
       "      <td>Aqua Patio</td>\n",
       "    </tr>\n",
       "    <tr>\n",
       "      <td>62</td>\n",
       "      <td>USA</td>\n",
       "      <td>Axis Wake Research</td>\n",
       "    </tr>\n",
       "    <tr>\n",
       "      <td>...</td>\n",
       "      <td>...</td>\n",
       "      <td>...</td>\n",
       "    </tr>\n",
       "    <tr>\n",
       "      <td>2689</td>\n",
       "      <td>USA</td>\n",
       "      <td>Walker Bay</td>\n",
       "    </tr>\n",
       "    <tr>\n",
       "      <td>2690</td>\n",
       "      <td>USA</td>\n",
       "      <td>Wellcraft</td>\n",
       "    </tr>\n",
       "    <tr>\n",
       "      <td>2693</td>\n",
       "      <td>USA</td>\n",
       "      <td>wellcraft</td>\n",
       "    </tr>\n",
       "    <tr>\n",
       "      <td>2718</td>\n",
       "      <td>Japan</td>\n",
       "      <td>Yamaha</td>\n",
       "    </tr>\n",
       "    <tr>\n",
       "      <td>2727</td>\n",
       "      <td>Italy</td>\n",
       "      <td>Zar</td>\n",
       "    </tr>\n",
       "  </tbody>\n",
       "</table>\n",
       "<p>120 rows × 2 columns</p>\n",
       "</div>"
      ],
      "text/plain": [
       "     Country           Boat_Make\n",
       "8      Italy            Absolute\n",
       "58    Sweden        Albin Marine\n",
       "60       USA    Angler Boat Corp\n",
       "61       USA          Aqua Patio\n",
       "62       USA  Axis Wake Research\n",
       "...      ...                 ...\n",
       "2689     USA          Walker Bay\n",
       "2690     USA           Wellcraft\n",
       "2693     USA           wellcraft\n",
       "2718   Japan              Yamaha\n",
       "2727   Italy                 Zar\n",
       "\n",
       "[120 rows x 2 columns]"
      ]
     },
     "execution_count": 31,
     "metadata": {},
     "output_type": "execute_result"
    }
   ],
   "source": [
    "unique_bb_df = bb_df.drop_duplicates()\n",
    "unique_bb_df"
   ]
  },
  {
   "cell_type": "markdown",
   "metadata": {},
   "source": [
    "# Grouped By Boat Make and Sorted by Freq (Amount of Reservation Made)"
   ]
  },
  {
   "cell_type": "code",
   "execution_count": 28,
   "metadata": {
    "scrolled": true
   },
   "outputs": [
    {
     "data": {
      "text/html": [
       "<div>\n",
       "<style scoped>\n",
       "    .dataframe tbody tr th:only-of-type {\n",
       "        vertical-align: middle;\n",
       "    }\n",
       "\n",
       "    .dataframe tbody tr th {\n",
       "        vertical-align: top;\n",
       "    }\n",
       "\n",
       "    .dataframe thead tr th {\n",
       "        text-align: left;\n",
       "    }\n",
       "</style>\n",
       "<table border=\"1\" class=\"dataframe\">\n",
       "  <thead>\n",
       "    <tr>\n",
       "      <th></th>\n",
       "      <th>Country</th>\n",
       "      <th colspan=\"4\" halign=\"left\">Boat_Make</th>\n",
       "    </tr>\n",
       "    <tr>\n",
       "      <th></th>\n",
       "      <th></th>\n",
       "      <th>count</th>\n",
       "      <th>unique</th>\n",
       "      <th>top</th>\n",
       "      <th>freq</th>\n",
       "    </tr>\n",
       "  </thead>\n",
       "  <tbody>\n",
       "    <tr>\n",
       "      <td>0</td>\n",
       "      <td>USA</td>\n",
       "      <td>2261</td>\n",
       "      <td>95</td>\n",
       "      <td>Sea Ray Boats</td>\n",
       "      <td>1090</td>\n",
       "    </tr>\n",
       "    <tr>\n",
       "      <td>1</td>\n",
       "      <td>England</td>\n",
       "      <td>103</td>\n",
       "      <td>3</td>\n",
       "      <td>Sunseeker International</td>\n",
       "      <td>101</td>\n",
       "    </tr>\n",
       "    <tr>\n",
       "      <td>2</td>\n",
       "      <td>France</td>\n",
       "      <td>70</td>\n",
       "      <td>3</td>\n",
       "      <td>Four Winns</td>\n",
       "      <td>66</td>\n",
       "    </tr>\n",
       "    <tr>\n",
       "      <td>3</td>\n",
       "      <td>Italy</td>\n",
       "      <td>211</td>\n",
       "      <td>9</td>\n",
       "      <td>Prestige</td>\n",
       "      <td>61</td>\n",
       "    </tr>\n",
       "    <tr>\n",
       "      <td>4</td>\n",
       "      <td>Netherlands</td>\n",
       "      <td>41</td>\n",
       "      <td>3</td>\n",
       "      <td>Galeon</td>\n",
       "      <td>35</td>\n",
       "    </tr>\n",
       "    <tr>\n",
       "      <td>5</td>\n",
       "      <td>Japan</td>\n",
       "      <td>9</td>\n",
       "      <td>1</td>\n",
       "      <td>Yamaha</td>\n",
       "      <td>9</td>\n",
       "    </tr>\n",
       "    <tr>\n",
       "      <td>6</td>\n",
       "      <td>Canada</td>\n",
       "      <td>4</td>\n",
       "      <td>1</td>\n",
       "      <td>Doral</td>\n",
       "      <td>4</td>\n",
       "    </tr>\n",
       "    <tr>\n",
       "      <td>7</td>\n",
       "      <td>Poland</td>\n",
       "      <td>4</td>\n",
       "      <td>1</td>\n",
       "      <td>Axopar Boats</td>\n",
       "      <td>4</td>\n",
       "    </tr>\n",
       "    <tr>\n",
       "      <td>8</td>\n",
       "      <td>Australia</td>\n",
       "      <td>3</td>\n",
       "      <td>1</td>\n",
       "      <td>Riviera</td>\n",
       "      <td>3</td>\n",
       "    </tr>\n",
       "    <tr>\n",
       "      <td>9</td>\n",
       "      <td>Sweden</td>\n",
       "      <td>2</td>\n",
       "      <td>1</td>\n",
       "      <td>Albin Marine</td>\n",
       "      <td>2</td>\n",
       "    </tr>\n",
       "    <tr>\n",
       "      <td>10</td>\n",
       "      <td>China</td>\n",
       "      <td>1</td>\n",
       "      <td>1</td>\n",
       "      <td>SUNBIRD</td>\n",
       "      <td>1</td>\n",
       "    </tr>\n",
       "    <tr>\n",
       "      <td>11</td>\n",
       "      <td>Germany</td>\n",
       "      <td>1</td>\n",
       "      <td>1</td>\n",
       "      <td>Sealine</td>\n",
       "      <td>1</td>\n",
       "    </tr>\n",
       "  </tbody>\n",
       "</table>\n",
       "</div>"
      ],
      "text/plain": [
       "        Country Boat_Make                                      \n",
       "                    count unique                      top  freq\n",
       "0           USA      2261     95            Sea Ray Boats  1090\n",
       "1       England       103      3  Sunseeker International   101\n",
       "2        France        70      3               Four Winns    66\n",
       "3         Italy       211      9                 Prestige    61\n",
       "4   Netherlands        41      3                   Galeon    35\n",
       "5         Japan         9      1                   Yamaha     9\n",
       "6        Canada         4      1                    Doral     4\n",
       "7        Poland         4      1             Axopar Boats     4\n",
       "8     Australia         3      1                  Riviera     3\n",
       "9        Sweden         2      1             Albin Marine     2\n",
       "10        China         1      1                  SUNBIRD     1\n",
       "11      Germany         1      1                  Sealine     1"
      ]
     },
     "execution_count": 28,
     "metadata": {},
     "output_type": "execute_result"
    }
   ],
   "source": [
    "gp_bb_df = bb_df.groupby('Country').describe()\n",
    "gp_bb_df = gp_bb_df.sort_values(('Boat_Make', 'freq'), ascending=False).reset_index()\n",
    "gp_bb_df"
   ]
  },
  {
   "cell_type": "markdown",
   "metadata": {},
   "source": [
    "## Description of groupby labels\n",
    "#### Count - How many total boats made reservation\n",
    "#### Unique - How many type of boats per country made reservation\n",
    "#### Top - Show the type of boat per country that made the most reservation\n",
    "#### Freq - Amount of reservation made per top boat per country"
   ]
  },
  {
   "cell_type": "markdown",
   "metadata": {},
   "source": [
    "# Merging Datasets\n",
    "#### Merging datasets on Boat Make to add country into the Master Dataset"
   ]
  },
  {
   "cell_type": "code",
   "execution_count": 60,
   "metadata": {
    "scrolled": true
   },
   "outputs": [
    {
     "data": {
      "text/plain": [
       "(32258, 18)"
      ]
     },
     "execution_count": 60,
     "metadata": {},
     "output_type": "execute_result"
    }
   ],
   "source": [
    "boat_master = pd.merge(mbd, unique_bb_df, how='inner', on=\"Boat_Make\").set_index('boat_id')\n",
    "boat_master.shape"
   ]
  },
  {
   "cell_type": "markdown",
   "metadata": {},
   "source": [
    "#### Moved the Country column to the beginning"
   ]
  },
  {
   "cell_type": "code",
   "execution_count": 58,
   "metadata": {},
   "outputs": [
    {
     "data": {
      "text/plain": [
       "(32258, 18)"
      ]
     },
     "execution_count": 58,
     "metadata": {},
     "output_type": "execute_result"
    }
   ],
   "source": [
    "boat_master = boat_master[[ \"Country\", \"boat_type\",\t\"year\", \"Boat_Make\", \"model\", \"model_type\",\t\"length_overall\", \"yield_length\", \"beam\", \"draft\", \"height\", \"hull\", \"engine\", \"hp\", \"weight\", \"fuel_type\",\t\"boat_image\", \"active\"]]\n",
    "boat_master.rename(columns={\n",
    "    \"Boat_Make\"\t: \"make\",\n",
    "})\n",
    "boat_master.shape"
   ]
  },
  {
   "cell_type": "markdown",
   "metadata": {},
   "source": [
    "##### Sample Data"
   ]
  },
  {
   "cell_type": "code",
   "execution_count": 59,
   "metadata": {},
   "outputs": [
    {
     "data": {
      "text/plain": [
       "(10, 18)"
      ]
     },
     "execution_count": 59,
     "metadata": {},
     "output_type": "execute_result"
    }
   ],
   "source": [
    "bm_sample = boat_master.head(10)\n",
    "bm_sample.shape"
   ]
  },
  {
   "cell_type": "markdown",
   "metadata": {},
   "source": [
    "# Saving DataFrame as csv file on desktop"
   ]
  },
  {
   "cell_type": "markdown",
   "metadata": {},
   "source": [
    "#### Dockdocks Boat Report 2019"
   ]
  },
  {
   "cell_type": "code",
   "execution_count": 41,
   "metadata": {},
   "outputs": [],
   "source": [
    "gp_bb_df.to_csv(\"Resources/Data/dtdock_boat_report_2019.csv\")"
   ]
  },
  {
   "cell_type": "markdown",
   "metadata": {},
   "source": [
    "#### Boat Master Database"
   ]
  },
  {
   "cell_type": "code",
   "execution_count": 42,
   "metadata": {},
   "outputs": [],
   "source": [
    "boat_master.to_csv(\"Resources/Data/boat_master.csv\")"
   ]
  },
  {
   "cell_type": "markdown",
   "metadata": {},
   "source": [
    "##### Sample Data"
   ]
  },
  {
   "cell_type": "code",
   "execution_count": 48,
   "metadata": {},
   "outputs": [],
   "source": [
    "bm_sample.to_csv(\"Resources/Data/bm_sample.csv\")"
   ]
  },
  {
   "cell_type": "markdown",
   "metadata": {},
   "source": [
    "# Saving DataFrame as json file on desktop"
   ]
  },
  {
   "cell_type": "code",
   "execution_count": 51,
   "metadata": {},
   "outputs": [],
   "source": [
    "boat_master.to_json(r\"Resources/static/js/boat_master.json\", orient='index')"
   ]
  },
  {
   "cell_type": "markdown",
   "metadata": {},
   "source": [
    "##### Sample Data"
   ]
  },
  {
   "cell_type": "code",
   "execution_count": 50,
   "metadata": {},
   "outputs": [],
   "source": [
    "bm_sample.to_json(r\"Resources/static/js/bm_sample.json\", orient='index')"
   ]
  },
  {
   "cell_type": "code",
   "execution_count": null,
   "metadata": {},
   "outputs": [],
   "source": []
  }
 ],
 "metadata": {
  "kernelspec": {
   "display_name": "Python 3",
   "language": "python",
   "name": "python3"
  },
  "language_info": {
   "codemirror_mode": {
    "name": "ipython",
    "version": 3
   },
   "file_extension": ".py",
   "mimetype": "text/x-python",
   "name": "python",
   "nbconvert_exporter": "python",
   "pygments_lexer": "ipython3",
   "version": "3.7.4"
  }
 },
 "nbformat": 4,
 "nbformat_minor": 4
}
