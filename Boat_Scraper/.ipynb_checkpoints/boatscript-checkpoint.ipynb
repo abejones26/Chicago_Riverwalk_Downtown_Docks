{
 "cells": [
  {
   "cell_type": "code",
   "execution_count": null,
   "metadata": {},
   "outputs": [],
   "source": [
    "from datetime import datetime as dt\n",
    "from datetime import timedelta\n",
    "import time\n",
    "from collections import deque\n",
    "import pandas as pd\n",
    "import requests\n",
    "# from StringIO import StringIO\n",
    "\n",
    "#=============================================\n",
    "# This part creates a tracker that records the number of urls scraped over a period of time, it loops every 10 seconds\n",
    "tracker = []\n",
    "while True:    \n",
    "    db = pd.read_csv('boats_database.csv',low_memory=False)\n",
    "    length_completed = len(db.this_url.value_counts())\n",
    "    now = dt.now()\n",
    "    time_elapsed = now - last_time[-1] \n",
    "    left = (23889-length_completed)\n",
    "    completed_over_interval = total_left[-1] - left\n",
    "    tracker.append([time_elapsed,completed_over_interval])\n",
    "    print(\"Completed:\",length_completed,\"Left: \",left, \"time_elapsed:\",time_elapsed, \"completed_over_int:\",completed_over_interval)\n",
    "    time.sleep(10)"
   ]
  }
 ],
 "metadata": {
  "kernelspec": {
   "display_name": "Python 3",
   "language": "python",
   "name": "python3"
  },
  "language_info": {
   "codemirror_mode": {
    "name": "ipython",
    "version": 3
   },
   "file_extension": ".py",
   "mimetype": "text/x-python",
   "name": "python",
   "nbconvert_exporter": "python",
   "pygments_lexer": "ipython3",
   "version": "3.7.4"
  }
 },
 "nbformat": 4,
 "nbformat_minor": 4
}
